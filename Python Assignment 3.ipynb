{
 "cells": [
  {
   "cell_type": "code",
   "execution_count": 20,
   "metadata": {},
   "outputs": [
    {
     "name": "stdout",
     "output_type": "stream",
     "text": [
      "output1 is 89\n",
      "output2 is 89\n"
     ]
    }
   ],
   "source": [
    "li=[20, 45, 30, 69,23, 89, 25]\n",
    "\n",
    "\n",
    "#Use reduce functn\n",
    "from functools import reduce\n",
    "output1=reduce(lambda a,b:a if a>b else b,li)\n",
    "print ('output1 is {}'.format (output1))\n",
    "\n",
    "#Use own function\n",
    "def myreduce(lis):\n",
    "    maximum=0\n",
    "    for i in lis:\n",
    "        if (i > maximum):\n",
    "            maximum=i\n",
    "    return maximum\n",
    "print ('output2 is {}'.format (myreduce(li)))\n"
   ]
  },
  {
   "cell_type": "code",
   "execution_count": 30,
   "metadata": {},
   "outputs": [
    {
     "name": "stdout",
     "output_type": "stream",
     "text": [
      "20\n",
      "30\n",
      "23\n",
      "25\n",
      "==================\n",
      "20\n",
      "30\n",
      "23\n",
      "25\n"
     ]
    }
   ],
   "source": [
    "li=[20, 45, 30, 69,23, 89, 25]\n",
    "\n",
    "#Use filter functn for those are less than 4\n",
    "output1=filter(lambda a:True if a < 45 else False,li)\n",
    "for i in output1:\n",
    "    print (i)\n",
    "\n",
    "print (\"==================\")\n",
    "\n",
    "#Use own function\n",
    "def myfilter(lis):\n",
    "    for i in lis:\n",
    "        if (i < 45):\n",
    "            print (i)\n",
    "myfilter(li)\n"
   ]
  },
  {
   "cell_type": "code",
   "execution_count": 79,
   "metadata": {},
   "outputs": [
    {
     "name": "stdout",
     "output_type": "stream",
     "text": [
      "['x', 'xx', 'xxx', 'xxxx', 'y', 'yy', 'yyy', 'yyyy', 'z', 'zz', 'zzz', 'zzzz']\n",
      "['x', 'y', 'z', 'xx', 'yy', 'zz', 'xxx', 'yyy', 'zzz', 'xxxx', 'yyyy', 'zzzz']\n",
      "[[2], [3], [4], [3], [4], [5], [4], [5], [6]]\n",
      "[[2, 3, 4, 5], [3, 4, 5, 6], [4, 5, 6, 7], [5, 6, 7, 8]]\n",
      "[(1, 1), (2, 1), (3, 1), (1, 2), (2, 2), (3, 2), (1, 3), (2, 3), (3, 3)]\n"
     ]
    }
   ],
   "source": [
    "print ([i*a for i in ['x','y', 'z'] for a in range(1,5)])\n",
    "\n",
    "print ([a*b for a in range (1,5) for b in ['x','y', 'z']])\n",
    "\n",
    "print ([[j+k] for j in range(1,4) for k in range(1,4)])\n",
    "\n",
    "print ([[j,j+1,j+2,j+3] for j in range(2,6)])\n",
    "\n",
    "print ([(y,x) for x in range (1,4) for y in range(1,4)])\n",
    "    "
   ]
  }
 ],
 "metadata": {
  "kernelspec": {
   "display_name": "Python 3",
   "language": "python",
   "name": "python3"
  },
  "language_info": {
   "codemirror_mode": {
    "name": "ipython",
    "version": 3
   },
   "file_extension": ".py",
   "mimetype": "text/x-python",
   "name": "python",
   "nbconvert_exporter": "python",
   "pygments_lexer": "ipython3",
   "version": "3.7.7"
  }
 },
 "nbformat": 4,
 "nbformat_minor": 2
}
